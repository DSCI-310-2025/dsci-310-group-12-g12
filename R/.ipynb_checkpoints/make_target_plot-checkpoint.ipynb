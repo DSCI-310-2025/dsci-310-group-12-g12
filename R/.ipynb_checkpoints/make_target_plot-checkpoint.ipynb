{
 "cells": [
  {
   "cell_type": "code",
   "execution_count": 1,
   "id": "f9de3995-bfd8-485c-a074-84104aa1d4ae",
   "metadata": {},
   "outputs": [],
   "source": [
    "#' Create a bar plot for the target variable distribution\n",
    "#'\n",
    "#' @param df A data frame containing the target column \"default_payment_next_month\"\n",
    "#' @return A ggplot object showing the bar plot\n",
    "#' @export\n",
    "make_target_plot <- function(df) {\n",
    "  if (!\"default_payment_next_month\" %in% colnames(df)) {\n",
    "    stop(\"Column 'default_payment_next_month' not found in the dataframe.\")\n",
    "  }\n",
    "  df$default_payment_next_month <- as.factor(df$default_payment_next_month)\n",
    "  \n",
    "  ggplot(df, aes(x = default_payment_next_month, fill = default_payment_next_month)) +\n",
    "    geom_bar() +\n",
    "    labs(title = \"Distribution of Default Payments\",\n",
    "         x = \"Default (0 = No, 1 = Yes)\",\n",
    "         y = \"Count\") +\n",
    "    theme_minimal()\n",
    "}"
   ]
  }
 ],
 "metadata": {
  "kernelspec": {
   "display_name": "R",
   "language": "R",
   "name": "ir"
  },
  "language_info": {
   "codemirror_mode": "r",
   "file_extension": ".r",
   "mimetype": "text/x-r-source",
   "name": "R",
   "pygments_lexer": "r",
   "version": "4.4.2"
  }
 },
 "nbformat": 4,
 "nbformat_minor": 5
}
