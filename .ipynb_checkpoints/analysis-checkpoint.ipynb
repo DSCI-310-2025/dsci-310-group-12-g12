{
 "cells": [
  {
   "cell_type": "markdown",
   "id": "0877d523-96cb-40eb-aa48-bf1bffac2323",
   "metadata": {},
   "source": [
    "## Credit Card Default Prediction\n",
    "Authors: Daniel Park | Yiting Sun | Jellia Ma | Han Qin"
   ]
  },
  {
   "cell_type": "code",
   "execution_count": null,
   "id": "5f77af01-000f-4b41-b087-9ffb32bcb3ad",
   "metadata": {
    "vscode": {
     "languageId": "r"
    }
   },
   "outputs": [],
   "source": []
  }
 ],
 "metadata": {
  "kernelspec": {
   "display_name": "R",
   "language": "R",
   "name": "ir"
  },
  "language_info": {
   "codemirror_mode": "r",
   "file_extension": ".r",
   "mimetype": "text/x-r-source",
   "name": "R",
   "pygments_lexer": "r",
   "version": "4.4.2"
  }
 },
 "nbformat": 4,
 "nbformat_minor": 5
}
